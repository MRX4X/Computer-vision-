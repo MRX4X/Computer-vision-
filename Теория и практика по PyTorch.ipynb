{
 "cells": [
  {
   "attachments": {},
   "cell_type": "markdown",
   "metadata": {},
   "source": [
    "PyTorch — это фреймворк для языка программирования Python, предназначенный для машинного обучения.\n",
    "Он включает в себя набор инструментов для работы с моделями, используется в обработке естественного языка, \n",
    "компьютерном зрении и других похожих направлениях."
   ]
  },
  {
   "attachments": {},
   "cell_type": "markdown",
   "metadata": {},
   "source": [
    "Тензоры - специальная структура данных, которая очень похожа на массивы и матрицы. \n",
    "Центральным компонентом PyTorch является такая структура данных, как тензор. Если вы знакомы с NumPy, вы обнаружите, что тензоры PyTorch похожи на ndarrays в NumPy. Ключевое отличие заключается в том, что они поддерживают CUDA (Compute Unified Device Architecture — программно-аппаратная архитектура параллельных вычислений, которая позволяет существенно увеличить вычислительную производительность благодаря использованию графических процессоров фирмы Nvidia.) и созданы для запуска на аппаратных ускорителях, таких как графические процессоры.\n",
    "\n",
    "Еще одна важная особенность тензоров заключается в том, что они оптимизированы для автоматического дифференцирования. Это основа алгоритма обучения нейронной сети, известного как обратное распространение ошибки.\n",
    "\n",
    "Эти две особенности тензоров очень важны для глубокого обучения:\n",
    "    1.огромные объемы данных, функций и итераций глубокого обучения требуют массивно-параллельной архитектуры графических процессоров для обучения в разумные сроки\n",
    "    2.обучение с помощью обратного распространения ошибки требует эффективной и точной дифференциации.\n",
    "\n",
    "В **PyTorch** мы используем тензоры для кодирования входов и выходов модели, также как и для\n",
    "параметров модели.\n",
    "\n",
    "Применение математических операций к тензорам:\n",
    "    умножение матриц\n",
    "    вычисление собственных векторов и значений\n",
    "    сортировка\n",
    "    индексы, срезы, соединения"
   ]
  },
  {
   "cell_type": "code",
   "execution_count": null,
   "metadata": {
    "vscode": {
     "languageId": "plaintext"
    }
   },
   "outputs": [],
   "source": [
    "import torch"
   ]
  },
  {
   "attachments": {},
   "cell_type": "markdown",
   "metadata": {},
   "source": [
    "Импорт библиотеки PyTorch"
   ]
  },
  {
   "attachments": {},
   "cell_type": "markdown",
   "metadata": {},
   "source": [
    "\n",
    "data = [[1, 2],[3, 4]] #Задаем тензор \n",
    "x_data = torch.tensor(data) #Метод для создания торч тензора\n",
    "print(x_data) #Выводим тензор на принт"
   ]
  },
  {
   "attachments": {},
   "cell_type": "markdown",
   "metadata": {},
   "source": [
    "Создание базового тензора"
   ]
  },
  {
   "cell_type": "code",
   "execution_count": null,
   "metadata": {
    "vscode": {
     "languageId": "plaintext"
    }
   },
   "outputs": [],
   "source": [
    "x_ones = torch.ones_like(x_data) # сохраняет свойства x_data, метод ones_like - означает представление матрицы в виде только единичек на выводе\n",
    "print(f\"Ones Tensor: \\n {x_ones} \\n\")"
   ]
  },
  {
   "cell_type": "code",
   "execution_count": null,
   "metadata": {
    "vscode": {
     "languageId": "plaintext"
    }
   },
   "outputs": [],
   "source": [
    "x_rand = torch.rand_like(x_data, dtype=torch.float) # перезаписывается тип данных x_data, числа будут с плавающей точкой\n",
    "print(f\"Random Tensor: \\n {x_rand} \\n\")"
   ]
  },
  {
   "cell_type": "code",
   "execution_count": null,
   "metadata": {
    "vscode": {
     "languageId": "plaintext"
    }
   },
   "outputs": [],
   "source": [
    "shape = (2,3,) #Данный параметр в виде кортежа, передаем параметры длины и ширины\n",
    "rand_tensor = torch.rand(shape) #первый тензор будет заполнен рандомными числами, при этом будут использованы заданные пареметры в переменной shape\n",
    "ones_tensor = torch.ones(shape) #второй параметр будет заполнен только единичками, при этом будут использованы заданные пареметры в переменной shape\n",
    "zeros_tensor = torch.zeros(shape) #третий параметр будет заполнен только нулями, при этом будут использованы заданные пареметры в переменной shape\n",
    "\n",
    "print(f\"Random Tensor: \\n {rand_tensor} \\n\")\n",
    "print(f\"Ones Tensor: \\n {ones_tensor} \\n\")\n",
    "print(f\"Zeros Tensor: \\n {zeros_tensor}\")"
   ]
  },
  {
   "cell_type": "code",
   "execution_count": null,
   "metadata": {
    "vscode": {
     "languageId": "plaintext"
    }
   },
   "outputs": [],
   "source": [
    "tensor = torch.rand(3,4) #создание тензора с рандомными значениями, матрицей размерности 3 и 4\n",
    "\n",
    "print(f\"Shape of tensor: {tensor.shape}\") #форма или размерность матрицы, которую имет тензор\n",
    "print(f\"Datatype of tensor: {tensor.dtype}\") #это объект, представляющий тип данных \n",
    "print(f\"Device tensor is stored on: {tensor.device}\") #это объект, представляющий устройство, на котором torch.Tensor находится или будет назначен. "
   ]
  },
  {
   "cell_type": "code",
   "execution_count": null,
   "metadata": {
    "vscode": {
     "languageId": "plaintext"
    }
   },
   "outputs": [],
   "source": [
    "if torch.cuda.is_available():\n",
    "    tensor = tensor.to('cuda') #Данной операцией проверяем, возможно ли перемещение вычислительных процессов с CPU (процессора) на GPU (видео-карта), возвращает логическое значение, указывающее, доступна ли в данный момент CUDA"
   ]
  },
  {
   "cell_type": "code",
   "execution_count": null,
   "metadata": {
    "vscode": {
     "languageId": "plaintext"
    }
   },
   "outputs": [],
   "source": [
    "tensor_1 = torch.ones(2, 4) #Создаем два тензора\n",
    "print(tensor_1)\n",
    "tensor_2 = torch.zeros(4, 4)\n",
    "\n",
    "t1 = torch.cat([tensor_1, tensor_2]) #Данная операция, позволяет объединить два тензора в одну, при этом количество столбцов должно быть одинаково, а количество строк может быть разным\n",
    "print(t1)"
   ]
  }
 ],
 "metadata": {
  "language_info": {
   "name": "python"
  },
  "orig_nbformat": 4
 },
 "nbformat": 4,
 "nbformat_minor": 2
}
